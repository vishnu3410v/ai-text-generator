{
 "cells": [
  {
   "cell_type": "code",
   "execution_count": 1,
   "id": "d876a0e5-f849-4602-bfbc-98bf16e20fb1",
   "metadata": {},
   "outputs": [],
   "source": [
    "import os\n",
    "from huggingface_hub import InferenceClient"
   ]
  },
  {
   "cell_type": "code",
   "execution_count": 7,
   "id": "d848607c-031e-46f0-ad19-dbc0954eee08",
   "metadata": {},
   "outputs": [],
   "source": [
    "os.environ[\"HF_TOKEN\"] = \"hf_your_real_token_here\""
   ]
  },
  {
   "cell_type": "code",
   "execution_count": 8,
   "id": "d951c0a4-fa8a-432a-af84-3b5ca773ed86",
   "metadata": {},
   "outputs": [],
   "source": [
    "client = InferenceClient(model=\"gpt2\", token=os.environ[\"HF_TOKEN\"])"
   ]
  },
  {
   "cell_type": "code",
   "execution_count": 9,
   "id": "658a0f12-b301-4980-9114-c2de88c8d674",
   "metadata": {},
   "outputs": [],
   "source": [
    "def generate_text(prompt, max_new_tokens=100):\n",
    "    try:\n",
    "        response = client.text_generation(\n",
    "            prompt,\n",
    "            max_new_tokens=max_new_tokens,\n",
    "            do_sample=True,\n",
    "            temperature=0.7,\n",
    "        )\n",
    "        return response\n",
    "    except Exception as e:\n",
    "        return f\"⚠️ Error: {e}\""
   ]
  },
  {
   "cell_type": "code",
   "execution_count": 10,
   "id": "4a589a8a-a54f-45c2-8bbe-3a36dd8e2778",
   "metadata": {},
   "outputs": [
    {
     "name": "stdout",
     "output_type": "stream",
     "text": [
      "Hugging Face Output:\n",
      "\n",
      "⚠️ Error: 401 Client Error: Unauthorized for url: https://huggingface.co/api/models/gpt2?expand=inferenceProviderMapping (Request ID: Root=1-68b56536-6a39c48d112781197d8e280e;def6048b-2f15-4a2c-b542-7cdcf92a9cb2)\n",
      "\n",
      "Invalid credentials in Authorization header\n"
     ]
    }
   ],
   "source": [
    " prompt = \"Write a short note about AI.\"\n",
    "print(\"Hugging Face Output:\\n\")\n",
    "print(generate_text(prompt))"
   ]
  },
  {
   "cell_type": "code",
   "execution_count": null,
   "id": "676ad64e-6c37-489d-9261-eaf285d7c615",
   "metadata": {},
   "outputs": [],
   "source": []
  }
 ],
 "metadata": {
  "kernelspec": {
   "display_name": "Python 3 (ipykernel)",
   "language": "python",
   "name": "python3"
  },
  "language_info": {
   "codemirror_mode": {
    "name": "ipython",
    "version": 3
   },
   "file_extension": ".py",
   "mimetype": "text/x-python",
   "name": "python",
   "nbconvert_exporter": "python",
   "pygments_lexer": "ipython3",
   "version": "3.13.0"
  }
 },
 "nbformat": 4,
 "nbformat_minor": 5
}
